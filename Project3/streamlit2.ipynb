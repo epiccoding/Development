{
 "cells": [
  {
   "cell_type": "code",
   "execution_count": 1,
   "metadata": {},
   "outputs": [
    {
     "name": "stderr",
     "output_type": "stream",
     "text": [
      "2023-05-30 19:02:02.887 INFO    openbb_terminal.loggers: Logging configuration finished\n",
      "2023-05-30 19:02:02.889 INFO    openbb_terminal.loggers: Logging set to file\n",
      "2023-05-30 19:02:02.890 INFO    openbb_terminal.loggers: Verbosity set to 20\n",
      "2023-05-30 19:02:02.890 INFO    openbb_terminal.loggers: LOGFORMAT: %(levelname)s-%(appName)s-%(commitHash)s-%(appId)s-%(sessionId)s-%(userId)s-%(asctime)s-%(name)s-%(funcName)s-%(lineno)s-%(message)s\n",
      "2023-05-30 19:02:02.892 INFO    openbb_terminal.core.log.generation.settings_logger: SETTINGS: {\"tab\": \"True\", \"cls\": \"False\", \"color\": \"True\", \"promptkit\": \"True\", \"thoughts\": \"False\", \"reporthtml\": \"True\", \"exithelp\": \"True\", \"rcontext\": \"True\", \"rich\": \"True\", \"richpanel\": \"True\", \"ion\": \"True\", \"watermark\": \"True\", \"autoscaling\": \"False\", \"dt\": \"True\", \"packaged\": \"False\", \"python\": \"3.9.16\", \"os\": \"Windows\"} \n",
      "2023-05-30 19:02:02.892 INFO    openbb_terminal.core.log.generation.settings_logger: CONFIG_TERMINAL: {\"LOGGING_APP_NAME\": \"gst_packaged_pypi\", \"LOGGING_COMMIT_HASH\": \"REPLACE_ME\", \"LOGGING_FREQUENCY\": \"H\", \"LOGGING_HANDLERS\": \"file\", \"LOGGING_ROLLING_CLOCK\": \"0\", \"LOGGING_SUB_APP\": \"sdk\", \"LOGGING_SUPPRESS\": \"False\", \"LOGGING_VERBOSITY\": \"20\", \"MPL_STYLE\": \"dark\", \"PACKAGE_ENV_FILE\": \"C:\\\\Users\\\\Elias\\\\AppData\\\\Roaming\\\\Python\\\\Python39\\\\site-packages\\\\openbb_terminal\\\\.env\", \"PAPERMILL_NOTEBOOK_REPORT_PORT\": \"8888\", \"PATH_TO_SELENIUM_DRIVER\": \"\", \"PMF_STYLE\": \"dark\", \"REPOSITORY_ENV_FILE\": \"C:\\\\Users\\\\Elias\\\\AppData\\\\Roaming\\\\Python\\\\Python39\\\\site-packages\\\\.env\", \"REQUEST_TIMEOUT\": \"5\", \"RICH_STYLE\": \"dark\", \"WEBDRIVER_TO_USE\": \"chrome\", \"_TerminalStyle\": \"<class 'openbb_terminal.helper_classes.TerminalStyle'>\", \"theme\": \"<openbb_terminal.helper_classes.TerminalStyle object at 0x000001EF87A68A00>\"} \n",
      "2023-05-30 19:02:02.893 INFO    openbb_terminal.core.log.generation.settings_logger: FEATURE_FLAGS: {\"ENABLE_CHECK_API\": \"1\", \"ENABLE_EXIT_AUTO_HELP\": \"1\", \"ENABLE_QUICK_EXIT\": \"0\", \"ENABLE_RICH\": \"1\", \"ENABLE_RICH_PANEL\": \"1\", \"ENABLE_THOUGHTS_DAY\": \"0\", \"EXPORT_FOLDER_PATH\": \"\", \"FILE_OVERWITE\": \"0\", \"GUESS_EASTER_EGG_FILE\": \"c:\\\\Users\\\\Elias\\\\Desktop\\\\Bootcamp\\\\Bootcamp\\\\Project3\\\\guess_game.json\", \"LOG_COLLECTION\": \"1\", \"MISCELLANEOUS_DIRECTORY\": \"C:\\\\Users\\\\Elias\\\\AppData\\\\Roaming\\\\Python\\\\Python39\\\\site-packages\\\\openbb_terminal\\\\miscellaneous\", \"OPEN_REPORT_AS_HTML\": \"1\", \"PREFERRED_DATA_SOURCE_FILE\": \"C:\\\\Users\\\\Elias\\\\OpenBBUserData\\\\data_sources_default.json\", \"REMEMBER_CONTEXTS\": \"1\", \"RETRY_WITH_LOAD\": \"0\", \"TOOLBAR_HINT\": \"1\", \"USER_DATA_SOURCES_DEFAULT_FILE\": \"C:\\\\Users\\\\Elias\\\\OpenBBUserData\\\\data_sources_default.json\", \"USE_CLEAR_AFTER_CMD\": \"0\", \"USE_CMD_LOCATION_FIGURE\": \"1\", \"USE_COLOR\": \"1\", \"USE_DATETIME\": \"1\", \"USE_FLAIR\": \":openbb\", \"USE_ION\": \"1\", \"USE_LANGUAGE\": \"en\", \"USE_PLOT_AUTOSCALING\": \"0\", \"USE_PROMPT_TOOLKIT\": \"1\", \"USE_TABULATE_DF\": \"1\", \"USE_WATERMARK\": \"1\", \"VERSION\": \"2.3.1\", \"WITH_GIT\": \"True\", \"i18n_dict_location\": \"C:\\\\Users\\\\Elias\\\\AppData\\\\Roaming\\\\Python\\\\Python39\\\\site-packages\\\\openbb_terminal\\\\miscellaneous\\\\i18n\", \"version\": \"2.3.1\"} \n",
      "2023-05-30 19:02:02.894 INFO    openbb_terminal.core.log.generation.settings_logger: KEYS: {\"API_BINANCE_KEY\": \"not_defined\", \"API_BINANCE_SECRET\": \"not_defined\", \"API_BITQUERY_KEY\": \"not_defined\", \"API_CMC_KEY\": \"not_defined\", \"API_COINBASE_KEY\": \"not_defined\", \"API_COINBASE_PASS_PHRASE\": \"not_defined\", \"API_COINBASE_SECRET\": \"not_defined\", \"API_COINGLASS_KEY\": \"not_defined\", \"API_CRYPTO_PANIC_KEY\": \"not_defined\", \"API_EODHD_KEY\": \"not_defined\", \"API_ETHPLORER_KEY\": \"defined\", \"API_FINNHUB_KEY\": \"not_defined\", \"API_FRED_KEY\": \"not_defined\", \"API_GITHUB_KEY\": \"not_defined\", \"API_GLASSNODE_KEY\": \"not_defined\", \"API_IEX_TOKEN\": \"not_defined\", \"API_KEY_ALPHAVANTAGE\": \"not_defined\", \"API_KEY_FINANCIALMODELINGPREP\": \"not_defined\", \"API_KEY_QUANDL\": \"not_defined\", \"API_MESSARI_KEY\": \"not_defined\", \"API_NEWS_TOKEN\": \"not_defined\", \"API_POLYGON_KEY\": \"not_defined\", \"API_REDDIT_CLIENT_ID\": \"not_defined\", \"API_REDDIT_CLIENT_SECRET\": \"not_defined\", \"API_REDDIT_PASSWORD\": \"not_defined\", \"API_REDDIT_USERNAME\": \"not_defined\", \"API_REDDIT_USER_AGENT\": \"not_defined\", \"API_SANTIMENT_KEY\": \"not_defined\", \"API_SENTIMENTINVESTOR_TOKEN\": \"not_defined\", \"API_SHROOM_KEY\": \"not_defined\", \"API_SMARTSTAKE_KEY\": \"not_defined\", \"API_SMARTSTAKE_TOKEN\": \"not_defined\", \"API_STOCKSERA_KEY\": \"not_defined\", \"API_TOKEN_TERMINAL_KEY\": \"not_defined\", \"API_TRADIER_TOKEN\": \"not_defined\", \"API_TWITTER_BEARER_TOKEN\": \"not_defined\", \"API_TWITTER_KEY\": \"not_defined\", \"API_TWITTER_SECRET_KEY\": \"not_defined\", \"API_WHALE_ALERT_KEY\": \"not_defined\"} \n",
      "2023-05-30 19:02:02.896 WARNING streamlit.runtime.caching.cache_data_api: No runtime found, using MemoryCacheStorageManager\n"
     ]
    }
   ],
   "source": [
    "import streamlit as st\n",
    "import pandas as pd\n",
    "import matplotlib.pyplot as plt\n",
    "from openbb_terminal.sdk import openbb\n",
    "\n",
    "@st.cache_data\n",
    "\n",
    "# This will use OpenBB to fetch 100 news articles in GoogleNews using the ticker entered\n",
    "def get_news(ticker):\n",
    "    # OpenBB calling code for news\n",
    "    news = openbb.news(term=ticker, sort=\"published\")\n",
    "    # Creates a Pandas dataframe for the elements captured by OpenBB\n",
    "    news_df = pd.DataFrame({'Term': ticker, 'Title': news['title'], 'Date': news['published'], 'Link': news['link']})\n",
    "    # Ensures date is formatted conveniently\n",
    "    news_df['Date'] = pd.to_datetime(news_df['Date']).dt.strftime('%Y-%m-%d')\n",
    "    return news_df\n",
    "\n",
    "def get_close(ticker):\n",
    "    # Grab closing price data\n",
    "    close = openbb.stocks.load(symbol=ticker)\n",
    "    close_df = pd.DataFrame({'Date': close.index, 'Open': close['Open'], 'Close': close['Close']})\n",
    "    close_df['Date'] = pd.to_datetime(close_df['Date']).dt.strftime('%Y-%m-%d')\n",
    "    return close_df"
   ]
  },
  {
   "cell_type": "code",
   "execution_count": 2,
   "metadata": {},
   "outputs": [
    {
     "name": "stderr",
     "output_type": "stream",
     "text": [
      "2023-05-30 19:02:08.725 \n",
      "  \u001b[33m\u001b[1mWarning:\u001b[0m to view this Streamlit app on a browser, run it with the following\n",
      "  command:\n",
      "\n",
      "    streamlit run c:\\Users\\Elias\\anaconda3\\envs\\explore\\lib\\site-packages\\ipykernel_launcher.py [ARGUMENTS]\n"
     ]
    }
   ],
   "source": [
    "# Streamlit app code\n",
    "def main():\n",
    "    st.title(\"News App\")\n",
    "    # User input Ticker symbol here\n",
    "    st.sidebar.markdown(\":heavy_dollar_sign::heavy_dollar_sign::heavy_dollar_sign:\")\n",
    "    ticker = st.sidebar.text_input(\"Enter a Ticker Symbol\")\n",
    "    # If one selected then:\n",
    "    if ticker:\n",
    "        chart_df = get_close(ticker)\n",
    "        if not chart_df.empty:\n",
    "            fig, ax = plt.subplots()\n",
    "            chart_df.plot(x='Date', y='Close', ax=ax)\n",
    "            ax.set_title(f\"{ticker} 5 Year Close Price\")\n",
    "            ax.set_xlabel(\"Date\")\n",
    "            ax.set_ylabel(\"Close\")\n",
    "            st.sidebar.pyplot(fig)\n",
    "            most_recent_close = chart_df['Close'].iloc[-1]\n",
    "            st.sidebar.write(f\"${most_recent_close:.2f}\")\n",
    "        else:\n",
    "            st.sidebar.write(chart_df[['Date', 'Close']])\n",
    "\n",
    "        st.markdown(f\"Fetching news for {ticker}...  While you wait, here is an inspirational quote:\")\n",
    "        st.markdown(f\"\"\"\n",
    "            >You're only given a little spark of madness. You mustn't lose it. -**:blue[Robin Williams]**\"\"\"\n",
    "        )\n",
    "\n",
    "        # This will print out the captured OpenBB data\n",
    "        news_df = get_news(ticker)\n",
    "        if len(news_df) > 0:\n",
    "            st.write(f\"Found {len(news_df)} news articles for {ticker}:\")\n",
    "            st.write(news_df[['Date', 'Title', 'Link']])\n",
    "        else:\n",
    "            st.write(\"No news articles found for the given ticker.\")\n",
    "\n",
    "if __name__ == '__main__':\n",
    "    main()"
   ]
  },
  {
   "cell_type": "code",
   "execution_count": null,
   "metadata": {},
   "outputs": [],
   "source": []
  }
 ],
 "metadata": {
  "kernelspec": {
   "display_name": "explore",
   "language": "python",
   "name": "python3"
  },
  "language_info": {
   "codemirror_mode": {
    "name": "ipython",
    "version": 3
   },
   "file_extension": ".py",
   "mimetype": "text/x-python",
   "name": "python",
   "nbconvert_exporter": "python",
   "pygments_lexer": "ipython3",
   "version": "3.9.16"
  },
  "orig_nbformat": 4
 },
 "nbformat": 4,
 "nbformat_minor": 2
}
