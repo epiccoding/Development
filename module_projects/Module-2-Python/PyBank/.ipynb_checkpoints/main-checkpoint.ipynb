{
 "cells": [
  {
   "cell_type": "code",
   "execution_count": 49,
   "id": "4b97f244-1dd2-4aff-9593-f6cbaedf0a47",
   "metadata": {},
   "outputs": [
    {
     "name": "stdout",
     "output_type": "stream",
     "text": [
      "Financial Analysis\n",
      "----------------------------\n",
      "Total Months: 86\n",
      "Total: $38382578\n",
      "Average Change: $-2315.12\n",
      "Greatest Incease in Profits: Feb-2012 $1926159\n",
      "Greatest Incease in Profits: Sep-2013 $-2196167\n"
     ]
    }
   ],
   "source": [
    "from pathlib import Path\n",
    "import csv\n",
    "\n",
    "csvpath = Path('Resources/budget_data.csv')\n",
    "\n",
    "total_months = []\n",
    "net_total = []\n",
    "net_change_list = []\n",
    "\n",
    "with open(csvpath) as csvfile:\n",
    "    \n",
    "    csvreader = csv.reader(csvfile, delimiter = ',')\n",
    "    \n",
    "    header = next (csvreader)\n",
    "    \n",
    "    for row in csvreader:\n",
    "        \n",
    "        #The total number of months included in the dataset\n",
    "        total_months.append(row[0])\n",
    "        \n",
    "        #The net total amount of Profit/Losses over the entire period\n",
    "        net_total.append(int(row[1]))\n",
    "        \n",
    "    #The average of the changes in Profit/Losses over the entire period\n",
    "    for i in range(len(net_total)-1):\n",
    "        net_change_list.append(net_total[i+1]-net_total[i])\n",
    "    average_change = round(sum(net_change_list)/len(net_change_list),2)\n",
    "        \n",
    "    #The greatest increase in profits (date and amount) over the entire period\n",
    "    greatest_increase = max(net_change_list)\n",
    "    greatest_increase_month = net_change_list.index(max(net_change_list)) + 1\n",
    "        \n",
    "    #The greatest decrease in losses (date and amount) over the entire period\n",
    "    greatest_decrease = min(net_change_list)\n",
    "    greatest_decrease_month = net_change_list.index(min(net_change_list)) + 1\n",
    "    \n",
    "# Financial Analysis\n",
    "# ----------------------------\n",
    "# Total Months: 86\n",
    "# Total: $38382578\n",
    "# Average  Change: $-2315.12\n",
    "# Greatest Increase in Profits: Feb-2012 ($1926159)\n",
    "# Greatest Decrease in Profits: Sep-2013 ($-2196167)\n",
    "\n",
    "print(\"Financial Analysis\")\n",
    "print(\"----------------------------\")\n",
    "print(f\"Total Months: {len(total_months)}\")\n",
    "print(f\"Total: ${sum(net_total)}\")\n",
    "print(f\"Average Change: ${average_change}\")\n",
    "print(f\"Greatest Incease in Profits: {total_months[greatest_increase_month]} ${greatest_increase}\")\n",
    "print(f\"Greatest Incease in Profits: {total_months[greatest_decrease_month]} ${greatest_decrease}\")"
   ]
  },
  {
   "cell_type": "code",
   "execution_count": null,
   "id": "a76f5d94-53f8-4f3a-a0a2-40a5230f9194",
   "metadata": {},
   "outputs": [],
   "source": []
  },
  {
   "cell_type": "code",
   "execution_count": null,
   "id": "8a4f39b9-8980-46d8-b24d-33e71644b09a",
   "metadata": {},
   "outputs": [],
   "source": []
  }
 ],
 "metadata": {
  "kernelspec": {
   "display_name": "Python 3 (ipykernel)",
   "language": "python",
   "name": "python3"
  },
  "language_info": {
   "codemirror_mode": {
    "name": "ipython",
    "version": 3
   },
   "file_extension": ".py",
   "mimetype": "text/x-python",
   "name": "python",
   "nbconvert_exporter": "python",
   "pygments_lexer": "ipython3",
   "version": "3.7.15"
  }
 },
 "nbformat": 4,
 "nbformat_minor": 5
}
