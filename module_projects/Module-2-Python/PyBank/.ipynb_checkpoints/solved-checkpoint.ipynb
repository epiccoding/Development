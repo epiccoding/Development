{
 "cells": [
  {
   "cell_type": "code",
   "execution_count": 10,
   "id": "aca100e7-722a-49c6-bd97-a90cbbb5e2af",
   "metadata": {},
   "outputs": [
    {
     "name": "stdout",
     "output_type": "stream",
     "text": [
      "Financial Analysis\n",
      "----------------------------\n",
      "Total Months: 86\n",
      "Total: $38382578\n",
      "Average Change: $-2315.12\n",
      "Greatest Increase in Profits: Feb-2012 $1926159\n",
      "Greatest Decrease in Profits: Sep-2013 $-2196167\n"
     ]
    }
   ],
   "source": [
    "import csv\n",
    "csvpath= 'Resources/budget_data.csv'\n",
    "\n",
    "with open(csvpath) as csv_file:\n",
    "    csv_reader=csv.reader(csv_file, delimiter=\",\")\n",
    "    csv_header=next(csv_file)\n",
    "\n",
    "    monthcount=0\n",
    "    total=0\n",
    "    average_change=0\n",
    "    date=[]\n",
    "    profits=[]\n",
    "    previous_profit=0\n",
    "    difference=[]\n",
    "    total_difference=0\n",
    "    increase={\"month\": \"\", \"profits\": 0}\n",
    "    decrease={\"month\": \"\", \"losses\": 0}\n",
    "    \n",
    "#The total number of months included in the dataset\n",
    "    for row in csv_reader:\n",
    "        monthcount +=1\n",
    "        total += int(row[1])\n",
    "\n",
    "#The net total amount of \"Profit/Losses\" over the entire period\n",
    "        date.append(row[0])\n",
    "        profit = int(row[1])\n",
    "        profits.append(profit)\n",
    "    \n",
    "#Calculate the changes in \"Profit/Losses\" over the entire period, \n",
    "        cd=0\n",
    "        if previous_profit != 0: \n",
    "            cd = profit - previous_profit\n",
    "            difference.append(cd)\n",
    "        previous_profit = profit\n",
    "        \n",
    "#The greatest increase in profits (date and amount) over the entire period\n",
    "        if cd > increase['profits']:\n",
    "            increase['profits'] = cd\n",
    "            increase['month'] = row[0]\n",
    "            \n",
    "#The greatest decrease in losses (date and amount) over the entire period        \n",
    "        if cd < decrease['losses']:\n",
    "            decrease['losses'] = cd\n",
    "            decrease['month'] = row[0]\n",
    "        \n",
    "    average_change = sum(difference) / len(difference)\n",
    "    \n",
    "print(f\"Financial Analysis\")\n",
    "print(f\"----------------------------\")\n",
    "print(f\"Total Months: {monthcount}\")\n",
    "print(f\"Total: ${total}\")\n",
    "print(f\"Average Change: ${average_change:.2f}\")\n",
    "print(f\"Greatest Increase in Profits: {increase['month']} ${increase['profits']}\")\n",
    "print(f\"Greatest Decrease in Profits: {decrease['month']} ${decrease['losses']}\")"
   ]
  },
  {
   "cell_type": "code",
   "execution_count": null,
   "id": "a2c16d7e-2d02-408e-a435-d15f5d8f994b",
   "metadata": {},
   "outputs": [],
   "source": []
  }
 ],
 "metadata": {
  "kernelspec": {
   "display_name": "Python 3 (ipykernel)",
   "language": "python",
   "name": "python3"
  },
  "language_info": {
   "codemirror_mode": {
    "name": "ipython",
    "version": 3
   },
   "file_extension": ".py",
   "mimetype": "text/x-python",
   "name": "python",
   "nbconvert_exporter": "python",
   "pygments_lexer": "ipython3",
   "version": "3.7.15"
  }
 },
 "nbformat": 4,
 "nbformat_minor": 5
}
